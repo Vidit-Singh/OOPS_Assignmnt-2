{
 "cells": [
  {
   "cell_type": "markdown",
   "id": "9c161ba4-e90e-4609-917e-50f41ac1d828",
   "metadata": {},
   "source": [
    "# Q1. What is Abstraction in OOps? Explain with an example."
   ]
  },
  {
   "cell_type": "markdown",
   "id": "008dafab-f647-4988-a66f-be2ab1b8cec9",
   "metadata": {},
   "source": [
    "- Abstraction is used to hide the internal functionality of the function from the users. The users only interact with the basic implementation of the function, but inner working is hidden. User is familiar with that \"what function does\" but they don't know \"how it does.\"\n",
    "\n",
    "- Example : In simple words, we all use the smartphone and very much familiar with its functions such as camera, voice-recorder, call-dialing, etc., but we don't know how these operations are happening in the background.\n",
    "\n",
    "- In Python, abstraction can be achieved by using abstract classes and interfaces. A class that consists of one or more abstract method is called the abstract class. \n",
    "\n",
    "- Abstract methods do not contain their implementation. Abstract class can be inherited by the subclass and abstract method gets its definition in the subclass.\n",
    "\n",
    "- Abstraction classes are meant to be the blueprint of the other class. An abstract class can be useful when we are designing large functions.Python provides the abc module to use the abstraction in the Python program. "
   ]
  },
  {
   "cell_type": "code",
   "execution_count": 3,
   "id": "18c29e06-cd24-453a-a33b-03a425b0c4f2",
   "metadata": {},
   "outputs": [],
   "source": [
    "# Example :\n",
    "\n",
    "import abc\n",
    "class pwskills :\n",
    "    \n",
    "    @abc.abstractmethod\n",
    "    def stu_details(self):\n",
    "        pass\n",
    "    \n",
    "    @abc.abstractmethod\n",
    "    def stu_assignment(self): # this is a skeleton which can be inherited\n",
    "        pass                     # to create any class\n",
    "   \n",
    "    @abc.abstractmethod\n",
    "    def stu_marks(self):\n",
    "        pass\n"
   ]
  },
  {
   "cell_type": "code",
   "execution_count": 4,
   "id": "c2e19e6d-8fda-460c-9eb7-2c87f425a2e9",
   "metadata": {},
   "outputs": [],
   "source": [
    "class stu_details(pwskills):\n",
    "    \n",
    "    def stu_details(self):\n",
    "        return 'this is meth for taking stu details'\n",
    "    \n",
    "    def stu_assignment(self):\n",
    "        return 'this is a meth for assignment'\n",
    "\n",
    "class data_science_masters(pwskills):\n",
    "    \n",
    "    def stu_details(self):\n",
    "        return 'this will return stu_details for dsm'\n",
    "    \n",
    "    def stu_assignment(self):\n",
    "        return 'this will give you assign details for dsm'\n"
   ]
  },
  {
   "cell_type": "code",
   "execution_count": 6,
   "id": "601947a6-95bc-4554-a992-578b09267019",
   "metadata": {},
   "outputs": [
    {
     "name": "stdout",
     "output_type": "stream",
     "text": [
      "this is meth for taking stu details\n"
     ]
    },
    {
     "data": {
      "text/plain": [
       "'this will return stu_details for dsm'"
      ]
     },
     "execution_count": 6,
     "metadata": {},
     "output_type": "execute_result"
    }
   ],
   "source": [
    "sd = stu_details()\n",
    "print(sd.stu_details())\n",
    "\n",
    "dsm = data_science_masters()\n",
    "dsm.stu_details()"
   ]
  },
  {
   "cell_type": "code",
   "execution_count": null,
   "id": "7317f8ca-8115-4b10-99af-ea868b9f6678",
   "metadata": {},
   "outputs": [],
   "source": []
  },
  {
   "cell_type": "markdown",
   "id": "052bfdc2-d0c1-4003-b181-93530398e964",
   "metadata": {},
   "source": [
    "# Q2. Differentiate between Abstraction and Encapsulation. Explain with an example."
   ]
  },
  {
   "cell_type": "markdown",
   "id": "6902f55a-6a10-4ef1-ba17-38b4adce575d",
   "metadata": {},
   "source": [
    "- Abstraction is a process of hiding the implementation details of a system from the user, and only the functional details will be available to the user end. On the other hand, Encapsulation is a method of wrapping up the data and code acting on the data into a single unit.\n",
    "\n",
    "- Abstraction is defined as a process of hiding the implementation details of a system from the user. Thus, by using abstraction, we provided only the functionality of the system to the user. Consequently, the user will have information on what the system does, but not on how the system does it.\n",
    "\n",
    "- Encapsulation is defined as a method by which data wrapping is done into a single unit. It is used in wrapping up the data and the code acting on the data together as a single unit.\n",
    "\n",
    "- In encapsulation, the variables of a class are hidden from other classes, and can be accessed only by methods of the current class. Therefore, encapsulation is also called data hiding.\n",
    "Encapsulation is implemented using access modifiers like public, private and protected."
   ]
  },
  {
   "cell_type": "code",
   "execution_count": 7,
   "id": "03d01b5b-4369-41f0-a8d0-a1862c90e7d4",
   "metadata": {},
   "outputs": [
    {
     "name": "stdout",
     "output_type": "stream",
     "text": [
      "Area of rectangle: 20\n"
     ]
    }
   ],
   "source": [
    "# Example of Abstraction :-\n",
    "from abc import ABC, abstractmethod\n",
    "\n",
    "class Shape(ABC):\n",
    "    @abstractmethod\n",
    "    def area(self):\n",
    "        pass\n",
    "\n",
    "class Rectangle(Shape):\n",
    "    def __init__(self, width, height):\n",
    "        self.width = width\n",
    "        self.height = height\n",
    "\n",
    "    def area(self):\n",
    "        return self.width * self.height\n",
    "\n",
    "rectangle = Rectangle(5, 4)\n",
    "print(\"Area of rectangle:\", rectangle.area())  # Output: 20"
   ]
  },
  {
   "cell_type": "code",
   "execution_count": 8,
   "id": "c22f83e7-a9ba-4a5b-b241-82c422a6fb1c",
   "metadata": {},
   "outputs": [
    {
     "name": "stdout",
     "output_type": "stream",
     "text": [
      "Mileage: 100\n"
     ]
    }
   ],
   "source": [
    "# Example of Encapsulation :-\n",
    "class Car:\n",
    "    def __init__(self, make, model):\n",
    "        self.make = make\n",
    "        self.model = model\n",
    "        self.__mileage = 0  # Private attribute\n",
    "\n",
    "    def drive(self, miles):\n",
    "        self.__mileage += miles\n",
    "\n",
    "    def get_mileage(self):\n",
    "        return self.__mileage\n",
    "\n",
    "my_car = Car(\"Toyota\", \"Camry\")\n",
    "my_car.drive(100)\n",
    "print(\"Mileage:\", my_car.get_mileage())  # Output: 100\n"
   ]
  },
  {
   "cell_type": "code",
   "execution_count": null,
   "id": "30d12f9d-29e0-4a4c-98e3-6841cb1ed259",
   "metadata": {},
   "outputs": [],
   "source": []
  },
  {
   "cell_type": "markdown",
   "id": "16ffc499-0297-4284-a8d7-e5d2c4e34109",
   "metadata": {},
   "source": [
    "# Q3. What is abc module in python? Why is it used?"
   ]
  },
  {
   "cell_type": "markdown",
   "id": "f8286604-b5a2-44f0-9bb6-e869fb46dcec",
   "metadata": {},
   "source": [
    "- The abc module in Python stands for \"Abstract Base Classes.\" It provides a way to define abstract base classes in Python. Abstract base classes are classes that are meant to be subclassed, but they themselves cannot be instantiated. Instead, they define a set of methods that must be implemented by their subclasses.\n",
    "\n",
    "The abc module is used for several purposes:\n",
    "\n",
    "- Defining Abstract Base Classes (ABCs):\n",
    "Abstract base classes define a common interface for a group of related classes. They typically provide method signatures without implementations, leaving the implementation details to the concrete subclasses. This allows for a consistent interface across multiple classes.\n",
    "\n",
    "- Enforcing Method Implementation:\n",
    "Abstract base classes can be used to enforce that certain methods must be implemented by subclasses. If a subclass fails to implement one of the required methods, attempting to instantiate it will raise an error."
   ]
  },
  {
   "cell_type": "code",
   "execution_count": null,
   "id": "0f279579-4f46-4ecb-af40-6cfeee5c5508",
   "metadata": {},
   "outputs": [],
   "source": []
  },
  {
   "cell_type": "markdown",
   "id": "0ca8d7c5-6efb-42ef-8aa3-41638065bcdf",
   "metadata": {},
   "source": [
    "# Q4. How can we achieve data abstraction?"
   ]
  },
  {
   "cell_type": "markdown",
   "id": "b7ded771-6dec-48b8-8c97-69fa67aa1028",
   "metadata": {},
   "source": [
    "- Abstract Base Classes (ABCs):\n",
    "\n",
    "Use the abc module to define abstract base classes with abstract methods.\n",
    "Subclasses must implement these abstract methods, providing concrete implementations for the abstract interface.\n",
    "Abstract base classes define a common interface for a group of related classes, promoting data abstraction and code consistency.\n",
    "\n",
    "- Property Decorators:\n",
    "\n",
    "Use property decorators to define getter and setter methods for attributes.\n",
    "This allows you to control access to attributes and perform validation or computation before getting or setting the attribute value.\n",
    "Property decorators provide a way to achieve encapsulation and data abstraction in Python without explicitly using getter and setter methods.\n",
    "\n",
    "- Encapsulation:\n",
    "\n",
    "Encapsulate the internal state of an object by using private or protected attributes.\n",
    "Provide public methods (getters and setters) to access and modify the data.\n",
    "This ensures that the internal representation of the object is hidden from the outside world, promoting data abstraction.\n",
    "\n",
    "- Use Classes and Objects:\n",
    "\n",
    "Define a class to represent the abstract data type.\n",
    "Encapsulate the data within the class by making attributes private or protected.\n",
    "Provide methods to manipulate the data or perform operations on it."
   ]
  },
  {
   "cell_type": "code",
   "execution_count": null,
   "id": "0293d463-bdee-41a3-b57b-30590e03a110",
   "metadata": {},
   "outputs": [],
   "source": []
  },
  {
   "cell_type": "markdown",
   "id": "ca4d167b-080c-415a-980a-206276d36533",
   "metadata": {},
   "source": [
    "# Q5. Can we create an instance of an abstract class? Explain your answer."
   ]
  },
  {
   "cell_type": "markdown",
   "id": "de81688c-4d2d-4b7d-ab66-d8986c2f4798",
   "metadata": {},
   "source": [
    "- No, we cannot create an instance of an abstract class directly in Python. Abstract classes are meant to be incomplete, serving as templates for concrete subclasses to inherit from. They typically contain one or more abstract methods that must be implemented by concrete subclasses.\n",
    "\n",
    "- Attempting to directly instantiate an abstract class in Python will result in an error. The purpose of abstract classes is to provide a blueprint for other classes to follow, so it doesn't make sense to create objects directly from them."
   ]
  },
  {
   "cell_type": "code",
   "execution_count": 9,
   "id": "97db2e9a-c7a2-4c33-a81a-89e9c1b8be43",
   "metadata": {},
   "outputs": [
    {
     "name": "stdout",
     "output_type": "stream",
     "text": [
      "TypeError: Can't instantiate abstract class AbstractClass with abstract method abstract_method\n"
     ]
    }
   ],
   "source": [
    "# Here's an example to illustrate this:\n",
    "\n",
    "from abc import ABC, abstractmethod\n",
    "\n",
    "class AbstractClass(ABC):\n",
    "    @abstractmethod\n",
    "    def abstract_method(self):\n",
    "        pass\n",
    "\n",
    "# Attempting to create an instance of AbstractClass\n",
    "try:\n",
    "    obj = AbstractClass()\n",
    "except TypeError as e:\n",
    "    print(\"TypeError:\", e)\n"
   ]
  },
  {
   "cell_type": "code",
   "execution_count": null,
   "id": "e01071b7-3d97-4a06-af9c-7ef05877a693",
   "metadata": {},
   "outputs": [],
   "source": []
  }
 ],
 "metadata": {
  "kernelspec": {
   "display_name": "Python 3 (ipykernel)",
   "language": "python",
   "name": "python3"
  },
  "language_info": {
   "codemirror_mode": {
    "name": "ipython",
    "version": 3
   },
   "file_extension": ".py",
   "mimetype": "text/x-python",
   "name": "python",
   "nbconvert_exporter": "python",
   "pygments_lexer": "ipython3",
   "version": "3.10.8"
  }
 },
 "nbformat": 4,
 "nbformat_minor": 5
}
